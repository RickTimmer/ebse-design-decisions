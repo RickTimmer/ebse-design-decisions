{
 "cells": [
  {
   "attachments": {},
   "cell_type": "markdown",
   "metadata": {},
   "source": [
    "# Kappa score calculation"
   ]
  },
  {
   "cell_type": "code",
   "execution_count": 2,
   "metadata": {},
   "outputs": [],
   "source": [
    "# Project imports\n",
    "import pandas as pd\n",
    "import numpy as np\n",
    "from sklearn.metrics import cohen_kappa_score\n",
    "\n",
    "# Project variables\n",
    "inputFile = \"input.csv\""
   ]
  },
  {
   "attachments": {},
   "cell_type": "markdown",
   "metadata": {},
   "source": [
    "##### Import CSV\n",
    "Import the CSV and drop collums that are not relevant for this script."
   ]
  },
  {
   "cell_type": "code",
   "execution_count": 4,
   "metadata": {},
   "outputs": [
    {
     "data": {
      "text/html": [
       "<div>\n",
       "<style scoped>\n",
       "    .dataframe tbody tr th:only-of-type {\n",
       "        vertical-align: middle;\n",
       "    }\n",
       "\n",
       "    .dataframe tbody tr th {\n",
       "        vertical-align: top;\n",
       "    }\n",
       "\n",
       "    .dataframe thead th {\n",
       "        text-align: right;\n",
       "    }\n",
       "</style>\n",
       "<table border=\"1\" class=\"dataframe\">\n",
       "  <thead>\n",
       "    <tr style=\"text-align: right;\">\n",
       "      <th></th>\n",
       "      <th>Marten</th>\n",
       "      <th>Rick</th>\n",
       "      <th>Krishan</th>\n",
       "    </tr>\n",
       "  </thead>\n",
       "  <tbody>\n",
       "    <tr>\n",
       "      <th>0</th>\n",
       "      <td>not-ak</td>\n",
       "      <td>not-ak</td>\n",
       "      <td>not-ak</td>\n",
       "    </tr>\n",
       "    <tr>\n",
       "      <th>1</th>\n",
       "      <td>technology</td>\n",
       "      <td>not-ak</td>\n",
       "      <td>technology,existence,existence-behavioral</td>\n",
       "    </tr>\n",
       "    <tr>\n",
       "      <th>2</th>\n",
       "      <td>technology</td>\n",
       "      <td>not-ak</td>\n",
       "      <td>technology,existence,existence-behavioral</td>\n",
       "    </tr>\n",
       "    <tr>\n",
       "      <th>3</th>\n",
       "      <td>not-ak</td>\n",
       "      <td>not-ak</td>\n",
       "      <td>not-ak</td>\n",
       "    </tr>\n",
       "    <tr>\n",
       "      <th>4</th>\n",
       "      <td>process</td>\n",
       "      <td>process</td>\n",
       "      <td>process</td>\n",
       "    </tr>\n",
       "  </tbody>\n",
       "</table>\n",
       "</div>"
      ],
      "text/plain": [
       "       Marten     Rick                                    Krishan\n",
       "0      not-ak   not-ak                                     not-ak\n",
       "1  technology   not-ak  technology,existence,existence-behavioral\n",
       "2  technology   not-ak  technology,existence,existence-behavioral\n",
       "3      not-ak   not-ak                                     not-ak\n",
       "4     process  process                                    process"
      ]
     },
     "execution_count": 4,
     "metadata": {},
     "output_type": "execute_result"
    }
   ],
   "source": [
    "data = pd.read_csv(inputFile)\n",
    "\n",
    "# Drop the index, thread and email ID\n",
    "data.drop(\"#\", inplace=True, axis=1)\n",
    "data.drop(\"Tread Id\", inplace=True, axis=1)\n",
    "data.drop(\"Email ID\", inplace=True, axis=1)\n",
    "data.drop(\"Agreement?\", inplace=True, axis=1)\n",
    "data.drop(\"Decided\", inplace=True, axis=1)\n",
    "\n",
    "# Drop NaN value rows\n",
    "data.dropna(inplace=True)\n",
    "\n",
    "# Display\n",
    "data.head(5)"
   ]
  },
  {
   "cell_type": "code",
   "execution_count": 18,
   "metadata": {},
   "outputs": [
    {
     "name": "stdout",
     "output_type": "stream",
     "text": [
      "not-ak\n",
      "technology\n",
      "process\n",
      "existence\n",
      "existence-structural\n",
      "existence-behavioral\n",
      "property\n",
      "existence-behaviour\n"
     ]
    }
   ],
   "source": [
    "# Get unique labels used in the input set.\n",
    "# Used to verify validate validity of the data.\n",
    "uniques = pd.unique(data.values.ravel(\"K\"))\n",
    "uniques = pd.Series(uniques).map(lambda x: x.split(',')).explode().unique()\n",
    "\n",
    "# Display unqiues\n",
    "for label in uniques:\n",
    "    print(label)"
   ]
  },
  {
   "attachments": {},
   "cell_type": "markdown",
   "metadata": {},
   "source": [
    "##### Convert to AK and Not-AK\n",
    "Used for comparisons of Kappa score for checking if the group is on the same line for this property."
   ]
  },
  {
   "cell_type": "code",
   "execution_count": 36,
   "metadata": {},
   "outputs": [
    {
     "data": {
      "text/html": [
       "<div>\n",
       "<style scoped>\n",
       "    .dataframe tbody tr th:only-of-type {\n",
       "        vertical-align: middle;\n",
       "    }\n",
       "\n",
       "    .dataframe tbody tr th {\n",
       "        vertical-align: top;\n",
       "    }\n",
       "\n",
       "    .dataframe thead th {\n",
       "        text-align: right;\n",
       "    }\n",
       "</style>\n",
       "<table border=\"1\" class=\"dataframe\">\n",
       "  <thead>\n",
       "    <tr style=\"text-align: right;\">\n",
       "      <th></th>\n",
       "      <th>Marten</th>\n",
       "      <th>Rick</th>\n",
       "      <th>Krishan</th>\n",
       "    </tr>\n",
       "  </thead>\n",
       "  <tbody>\n",
       "    <tr>\n",
       "      <th>0</th>\n",
       "      <td>Non-architectural</td>\n",
       "      <td>Non-architectural</td>\n",
       "      <td>Non-architectural</td>\n",
       "    </tr>\n",
       "    <tr>\n",
       "      <th>1</th>\n",
       "      <td>Executive</td>\n",
       "      <td>Non-architectural</td>\n",
       "      <td>Existence</td>\n",
       "    </tr>\n",
       "    <tr>\n",
       "      <th>2</th>\n",
       "      <td>Executive</td>\n",
       "      <td>Non-architectural</td>\n",
       "      <td>Existence</td>\n",
       "    </tr>\n",
       "    <tr>\n",
       "      <th>3</th>\n",
       "      <td>Non-architectural</td>\n",
       "      <td>Non-architectural</td>\n",
       "      <td>Non-architectural</td>\n",
       "    </tr>\n",
       "    <tr>\n",
       "      <th>4</th>\n",
       "      <td>Executive</td>\n",
       "      <td>Executive</td>\n",
       "      <td>Executive</td>\n",
       "    </tr>\n",
       "    <tr>\n",
       "      <th>...</th>\n",
       "      <td>...</td>\n",
       "      <td>...</td>\n",
       "      <td>...</td>\n",
       "    </tr>\n",
       "    <tr>\n",
       "      <th>99</th>\n",
       "      <td>Existence</td>\n",
       "      <td>Existence</td>\n",
       "      <td>Existence</td>\n",
       "    </tr>\n",
       "    <tr>\n",
       "      <th>100</th>\n",
       "      <td>Non-architectural</td>\n",
       "      <td>Non-architectural</td>\n",
       "      <td>Non-architectural</td>\n",
       "    </tr>\n",
       "    <tr>\n",
       "      <th>101</th>\n",
       "      <td>Existence</td>\n",
       "      <td>Existence</td>\n",
       "      <td>Existence</td>\n",
       "    </tr>\n",
       "    <tr>\n",
       "      <th>102</th>\n",
       "      <td>Non-architectural</td>\n",
       "      <td>Non-architectural</td>\n",
       "      <td>Non-architectural</td>\n",
       "    </tr>\n",
       "    <tr>\n",
       "      <th>103</th>\n",
       "      <td>Non-architectural</td>\n",
       "      <td>Non-architectural</td>\n",
       "      <td>Non-architectural</td>\n",
       "    </tr>\n",
       "  </tbody>\n",
       "</table>\n",
       "<p>99 rows × 3 columns</p>\n",
       "</div>"
      ],
      "text/plain": [
       "                Marten               Rick            Krishan\n",
       "0    Non-architectural  Non-architectural  Non-architectural\n",
       "1            Executive  Non-architectural          Existence\n",
       "2            Executive  Non-architectural          Existence\n",
       "3    Non-architectural  Non-architectural  Non-architectural\n",
       "4            Executive          Executive          Executive\n",
       "..                 ...                ...                ...\n",
       "99           Existence          Existence          Existence\n",
       "100  Non-architectural  Non-architectural  Non-architectural\n",
       "101          Existence          Existence          Existence\n",
       "102  Non-architectural  Non-architectural  Non-architectural\n",
       "103  Non-architectural  Non-architectural  Non-architectural\n",
       "\n",
       "[99 rows x 3 columns]"
      ]
     },
     "execution_count": 36,
     "metadata": {},
     "output_type": "execute_result"
    }
   ],
   "source": [
    "# Hierachy for most important to least important labels\n",
    "labelHierachy = [\"Executive\", \"Property\", \"Existence\", \"Non-architectural\"]\n",
    "\n",
    "# Mapping from labels in the tool to the labels in the hierachy.\n",
    "# Labels that are not mapped may be ignored.\n",
    "labelMapping = {\n",
    "    \"existence\": labelHierachy.index(\"Existence\"),\n",
    "    \"property\": labelHierachy.index(\"Property\"),\n",
    "    \"process\": labelHierachy.index(\"Executive\"),\n",
    "    \"technology\": labelHierachy.index(\"Executive\"),\n",
    "    \"not-ak\": labelHierachy.index(\"Non-architectural\")\n",
    "}\n",
    "\n",
    "def mapCel(cellData: str) -> str:\n",
    "    importance = pd.Series(cellData.split(\",\")).map(labelMapping).dropna().astype(int).max()\n",
    "\n",
    "    if importance == None:\n",
    "        print(\"No importance found\")\n",
    "        return labelMapping[\"not-ak\"]\n",
    "\n",
    "    return labelHierachy[importance]\n",
    "\n",
    "transformedData = data.applymap(mapCel)\n",
    "\n",
    "\n"
   ]
  },
  {
   "cell_type": "code",
   "execution_count": null,
   "metadata": {},
   "outputs": [],
   "source": []
  }
 ],
 "metadata": {
  "kernelspec": {
   "display_name": "Python 3",
   "language": "python",
   "name": "python3"
  },
  "language_info": {
   "codemirror_mode": {
    "name": "ipython",
    "version": 3
   },
   "file_extension": ".py",
   "mimetype": "text/x-python",
   "name": "python",
   "nbconvert_exporter": "python",
   "pygments_lexer": "ipython3",
   "version": "3.11.1"
  },
  "orig_nbformat": 4,
  "vscode": {
   "interpreter": {
    "hash": "f96857dcf09c01b022c7fccf7a442c6a45ebb3edc34ea79c7bc0ebc6fd42b24a"
   }
  }
 },
 "nbformat": 4,
 "nbformat_minor": 2
}
