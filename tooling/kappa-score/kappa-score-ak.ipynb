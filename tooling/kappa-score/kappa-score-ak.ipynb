{
 "cells": [
  {
   "attachments": {},
   "cell_type": "markdown",
   "metadata": {},
   "source": [
    "# Kappa score calculation"
   ]
  },
  {
   "cell_type": "code",
   "execution_count": 1,
   "metadata": {},
   "outputs": [],
   "source": [
    "# Project imports\n",
    "import pandas as pd\n",
    "import numpy as np\n",
    "from sklearn.metrics import cohen_kappa_score\n",
    "\n",
    "# Project variables\n",
    "inputFile = \"input.csv\""
   ]
  },
  {
   "attachments": {},
   "cell_type": "markdown",
   "metadata": {},
   "source": [
    "##### Import CSV"
   ]
  },
  {
   "cell_type": "code",
   "execution_count": 2,
   "metadata": {},
   "outputs": [
    {
     "data": {
      "text/html": [
       "<div>\n",
       "<style scoped>\n",
       "    .dataframe tbody tr th:only-of-type {\n",
       "        vertical-align: middle;\n",
       "    }\n",
       "\n",
       "    .dataframe tbody tr th {\n",
       "        vertical-align: top;\n",
       "    }\n",
       "\n",
       "    .dataframe thead th {\n",
       "        text-align: right;\n",
       "    }\n",
       "</style>\n",
       "<table border=\"1\" class=\"dataframe\">\n",
       "  <thead>\n",
       "    <tr style=\"text-align: right;\">\n",
       "      <th></th>\n",
       "      <th>Marten</th>\n",
       "      <th>Rick</th>\n",
       "      <th>Krishan</th>\n",
       "    </tr>\n",
       "  </thead>\n",
       "  <tbody>\n",
       "    <tr>\n",
       "      <th>0</th>\n",
       "      <td>not-ak</td>\n",
       "      <td>not-ak</td>\n",
       "      <td>not-ak</td>\n",
       "    </tr>\n",
       "    <tr>\n",
       "      <th>1</th>\n",
       "      <td>technology</td>\n",
       "      <td>not-ak</td>\n",
       "      <td>technology,existence,existence-behavioral</td>\n",
       "    </tr>\n",
       "    <tr>\n",
       "      <th>2</th>\n",
       "      <td>technology</td>\n",
       "      <td>not-ak</td>\n",
       "      <td>technology,existence,existence-behavioral</td>\n",
       "    </tr>\n",
       "    <tr>\n",
       "      <th>3</th>\n",
       "      <td>not-ak</td>\n",
       "      <td>not-ak</td>\n",
       "      <td>not-ak</td>\n",
       "    </tr>\n",
       "    <tr>\n",
       "      <th>4</th>\n",
       "      <td>process</td>\n",
       "      <td>process</td>\n",
       "      <td>process</td>\n",
       "    </tr>\n",
       "  </tbody>\n",
       "</table>\n",
       "</div>"
      ],
      "text/plain": [
       "       Marten     Rick                                    Krishan\n",
       "0      not-ak   not-ak                                     not-ak\n",
       "1  technology   not-ak  technology,existence,existence-behavioral\n",
       "2  technology   not-ak  technology,existence,existence-behavioral\n",
       "3      not-ak   not-ak                                     not-ak\n",
       "4     process  process                                    process"
      ]
     },
     "execution_count": 2,
     "metadata": {},
     "output_type": "execute_result"
    }
   ],
   "source": [
    "data = pd.read_csv(inputFile)\n",
    "\n",
    "# Drop the index, thread and email ID\n",
    "data.drop(\"#\", inplace=True, axis=1)\n",
    "data.drop(\"Tread Id\", inplace=True, axis=1)\n",
    "data.drop(\"Email ID\", inplace=True, axis=1)\n",
    "data.drop(\"Agreement?\", inplace=True, axis=1)\n",
    "data.drop(\"Decided\", inplace=True, axis=1)\n",
    "\n",
    "# Drop NaN value rows\n",
    "data.dropna(inplace=True)\n",
    "\n",
    "# Display\n",
    "data.head(5)"
   ]
  },
  {
   "attachments": {},
   "cell_type": "markdown",
   "metadata": {},
   "source": [
    "##### Convert to AK and Not-AK\n",
    "Used for comparisons of Kappa score for checking if the group is on the same line for this property."
   ]
  },
  {
   "cell_type": "code",
   "execution_count": 3,
   "metadata": {},
   "outputs": [
    {
     "data": {
      "text/html": [
       "<div>\n",
       "<style scoped>\n",
       "    .dataframe tbody tr th:only-of-type {\n",
       "        vertical-align: middle;\n",
       "    }\n",
       "\n",
       "    .dataframe tbody tr th {\n",
       "        vertical-align: top;\n",
       "    }\n",
       "\n",
       "    .dataframe thead th {\n",
       "        text-align: right;\n",
       "    }\n",
       "</style>\n",
       "<table border=\"1\" class=\"dataframe\">\n",
       "  <thead>\n",
       "    <tr style=\"text-align: right;\">\n",
       "      <th></th>\n",
       "      <th>Marten</th>\n",
       "      <th>Rick</th>\n",
       "      <th>Krishan</th>\n",
       "    </tr>\n",
       "  </thead>\n",
       "  <tbody>\n",
       "    <tr>\n",
       "      <th>0</th>\n",
       "      <td>False</td>\n",
       "      <td>False</td>\n",
       "      <td>False</td>\n",
       "    </tr>\n",
       "    <tr>\n",
       "      <th>1</th>\n",
       "      <td>True</td>\n",
       "      <td>False</td>\n",
       "      <td>True</td>\n",
       "    </tr>\n",
       "    <tr>\n",
       "      <th>2</th>\n",
       "      <td>True</td>\n",
       "      <td>False</td>\n",
       "      <td>True</td>\n",
       "    </tr>\n",
       "    <tr>\n",
       "      <th>3</th>\n",
       "      <td>False</td>\n",
       "      <td>False</td>\n",
       "      <td>False</td>\n",
       "    </tr>\n",
       "    <tr>\n",
       "      <th>4</th>\n",
       "      <td>True</td>\n",
       "      <td>True</td>\n",
       "      <td>True</td>\n",
       "    </tr>\n",
       "  </tbody>\n",
       "</table>\n",
       "</div>"
      ],
      "text/plain": [
       "   Marten   Rick  Krishan\n",
       "0   False  False    False\n",
       "1    True  False     True\n",
       "2    True  False     True\n",
       "3   False  False    False\n",
       "4    True   True     True"
      ]
     },
     "execution_count": 3,
     "metadata": {},
     "output_type": "execute_result"
    }
   ],
   "source": [
    "# Mapping\n",
    "# ak emails         -> True\n",
    "# not-ak emails     -> False\n",
    "tData = data.applymap(lambda cell: False if cell.strip().lower() == \"not-ak\" else True)\n",
    "tData.head(5)\n"
   ]
  },
  {
   "cell_type": "code",
   "execution_count": 9,
   "metadata": {},
   "outputs": [
    {
     "name": "stdout",
     "output_type": "stream",
     "text": [
      "Amount of particpants: 3\n",
      "--------------------------------------------\n",
      "Created from rows 0 till 50\n",
      "           Marten      Rick   Krishan\n",
      "Marten        1.0  0.591837  0.655172\n",
      "Rick     0.591837       1.0  0.545455\n",
      "Krishan  0.655172  0.545455       1.0\n",
      "--------------------------------------------\n",
      "Created from rows 51 till 99\n",
      "           Marten      Rick   Krishan\n",
      "Marten        1.0  0.713311  0.618375\n",
      "Rick     0.713311       1.0  0.751724\n",
      "Krishan  0.618375  0.751724       1.0\n"
     ]
    }
   ],
   "source": [
    "# Calculate the kappa score\n",
    "print(\"Amount of particpants:\", tData.shape[1])\n",
    "\n",
    "def calculateKappa(df, start=0, end=None):\n",
    "    if end == None:\n",
    "        end = df.shape[0]\n",
    "\n",
    "    colLength = df.shape[1]\n",
    "    output = pd.DataFrame(columns=df.columns, index=df.columns)\n",
    "\n",
    "    output\n",
    "\n",
    "    for rIdx in range(0, colLength):\n",
    "        part1 = df.iloc[start:end, rIdx]\n",
    "        for cIdx in range(0, colLength):\n",
    "            part2 = df.iloc[start:end, cIdx]\n",
    "            output.iloc[cIdx, rIdx] = cohen_kappa_score(part1, part2)\n",
    "    \n",
    "    # Print the output\n",
    "    print(\"--------------------------------------------\")\n",
    "    print(f\"Created from rows {start} till {end}\")\n",
    "    print(output.to_latex())\n",
    "\n",
    "calculateKappa(tData, end=50)\n",
    "calculateKappa(tData, start=51, end = 99)"
   ]
  }
 ],
 "metadata": {
  "kernelspec": {
   "display_name": "Python 3",
   "language": "python",
   "name": "python3"
  },
  "language_info": {
   "codemirror_mode": {
    "name": "ipython",
    "version": 3
   },
   "file_extension": ".py",
   "mimetype": "text/x-python",
   "name": "python",
   "nbconvert_exporter": "python",
   "pygments_lexer": "ipython3",
   "version": "3.11.1"
  },
  "orig_nbformat": 4,
  "vscode": {
   "interpreter": {
    "hash": "f96857dcf09c01b022c7fccf7a442c6a45ebb3edc34ea79c7bc0ebc6fd42b24a"
   }
  }
 },
 "nbformat": 4,
 "nbformat_minor": 2
}
